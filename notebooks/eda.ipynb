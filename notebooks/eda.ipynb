import pandas as pd

df = pd.read_csv("../data/jobs.csv")
df.head()
df = df.dropna(subset=["Description", "Title"])

